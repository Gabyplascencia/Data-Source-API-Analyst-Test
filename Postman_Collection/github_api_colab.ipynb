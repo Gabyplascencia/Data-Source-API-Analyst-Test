{
 "cells": [
  {
   "cell_type": "markdown",
   "id": "672e371b",
   "metadata": {},
   "source": [
    "# GitHub API - Data Extraction Notebook"
   ]
  },
  {
   "cell_type": "markdown",
   "id": "0f00ab45",
   "metadata": {},
   "source": [
    "### Objective\n",
    "\n",
    "This notebook demonstrates how to extract, handle, and explore data using the GitHub REST API. The focus is on retrieving public repositories, commit histories, and file contents for technical analysis."
   ]
  },
  {
   "cell_type": "markdown",
   "id": "1e58c038",
   "metadata": {},
   "source": [
    "Author: Gabriela Rivera Plascencia\n"
   ]
  },
  {
   "cell_type": "markdown",
   "id": "e602a82e",
   "metadata": {},
   "source": [
    "##  Notebook Structure\n",
    "\n",
    "1. Objective and Scope  \n",
    "2. Library Imports  \n",
    "3. Token-Based Authentication  \n",
    "4. Reusable Functions  \n",
    "   - Authentication Setup  \n",
    "   - Safe Request Handling  \n",
    "   - Pagination Management  \n",
    "5. API Endpoint Tests  \n",
    "   -  `/search/repositories`: Search for popular repositories  \n",
    "   - `/repos/{owner}/{repo}/commits`: Retrieve commit history  \n",
    "   - `/repos/{owner}/{repo}/contents/{path}`: Get file contents  \n",
    "6. Comments and Observations  \n",
    "7. Final Thoughts  \n"
   ]
  },
  {
   "cell_type": "markdown",
   "id": "ddb28d10",
   "metadata": {},
   "source": [
    "### Utility Functions\n"
   ]
  },
  {
   "cell_type": "code",
   "execution_count": 1,
   "id": "8f0ca568",
   "metadata": {},
   "outputs": [],
   "source": [
    "import requests\n",
    "import json\n",
    "from pprint import pprint\n",
    "\n",
    "# Authentication\n",
    "def get_headers(token):\n",
    "    return {\n",
    "        \"Authorization\": f\"Bearer {token}\",\n",
    "        \"Accept\": \"application/vnd.github+json\",\n",
    "        \"X-GitHub-Api-Version\": \"2022-11-28\"\n",
    "    }\n",
    "\n",
    "# Pagination\n",
    "def get_paginated_results(url, headers, max_pages=5):\n",
    "    results = []\n",
    "    page = 1\n",
    "    while page <= max_pages:\n",
    "        response = requests.get(f\"{url}&page={page}\", headers=headers)\n",
    "        if response.status_code != 200:\n",
    "            print(f\"Error on page {page}: {response.status_code}\")\n",
    "            break\n",
    "        data = response.json()\n",
    "        if 'items' in data:\n",
    "            results.extend(data['items'])\n",
    "        else:\n",
    "            break\n",
    "        page += 1\n",
    "    return results\n",
    "\n",
    "# Error handling\n",
    "def safe_request(url, headers):\n",
    "    try:\n",
    "        response = requests.get(url, headers=headers)\n",
    "        response.raise_for_status()\n",
    "        return response.json()\n",
    "    except requests.exceptions.RequestException as e:\n",
    "        print(\"Request failed:\", e)\n",
    "        return None\n"
   ]
  },
  {
   "cell_type": "markdown",
   "id": "ac9c65f7",
   "metadata": {},
   "source": [
    "## Library Imports"
   ]
  },
  {
   "cell_type": "code",
   "execution_count": 19,
   "id": "b55774cb",
   "metadata": {},
   "outputs": [],
   "source": [
    "## Import Libraries\n",
    "\n",
    "import requests\n",
    "import time\n",
    "import pandas as pd\n",
    "from pprint import pprint"
   ]
  },
  {
   "cell_type": "markdown",
   "id": "53a5986c",
   "metadata": {},
   "source": [
    "### Authentication\n",
    "\n",
    "This section handles the secure authentication required to access the GitHub REST API.  \n",
    "We use a **Personal Access Token (PAT)** retrieved securely through user input, which is passed in the request headers for all subsequent API calls.  \n",
    "Proper authentication increases the rate limit and grants access to protected endpoints.\n"
   ]
  },
  {
   "cell_type": "code",
   "execution_count": null,
   "id": "f603357f",
   "metadata": {},
   "outputs": [],
   "source": [
    "# Replace with your actual GitHub token\n",
    "TOKEN = \"Enter your full GitHub token:\"\n"
   ]
  },
  {
   "cell_type": "code",
   "execution_count": 21,
   "id": "91fb0c02",
   "metadata": {},
   "outputs": [],
   "source": [
    "# Authentication headers\n",
    "headers = {\n",
    "    \"Authorization\": f\"Bearer {TOKEN}\",\n",
    "    \"Accept\": \"application/vnd.github+json\",\n",
    "    \"X-GitHub-Api-Version\": \"2022-11-28\"\n",
    "}"
   ]
  },
  {
   "cell_type": "markdown",
   "id": "4cee4403",
   "metadata": {},
   "source": [
    "###  GET Search Repositories\n",
    "\n",
    "This endpoint allows us to search public repositories on GitHub based on a query. In this example, we search for Python repositories with more than 10,000 stars, sorted by the number of stars.\n",
    "\n",
    "\n"
   ]
  },
  {
   "cell_type": "code",
   "execution_count": 32,
   "id": "87c7c39d",
   "metadata": {},
   "outputs": [],
   "source": [
    "def search_repositories(query=\"data\", language=\"python\", sort=\"stars\", order=\"desc\", per_page=30, page=1):\n",
    "    url = \"https://api.github.com/search/repositories\"\n",
    "    params = {\n",
    "        \"q\": f\"{query}+language:{language}\",\n",
    "        \"sort\": sort,\n",
    "        \"order\": order,\n",
    "        \"per_page\": per_page,\n",
    "        \"page\": page\n",
    "    }\n",
    "    response = requests.get(url, headers=headers, params=params)\n",
    "    if response.status_code == 200:\n",
    "        return response.json()[\"items\"]\n",
    "    else:\n",
    "        print(f\"Error: {response.status_code}\")\n",
    "        print(response.json())\n",
    "        return []\n"
   ]
  },
  {
   "cell_type": "code",
   "execution_count": 33,
   "id": "fc184e2c",
   "metadata": {},
   "outputs": [
    {
     "name": "stdout",
     "output_type": "stream",
     "text": [
      "Total repositories retrieved: 90\n",
      "{'id': 13491895, 'node_id': 'MDEwOlJlcG9zaXRvcnkxMzQ5MTg5NQ==', 'name': 'free-programming-books', 'full_name': 'EbookFoundation/free-programming-books', 'private': False, 'owner': {'login': 'EbookFoundation', 'id': 14127308, 'node_id': 'MDEyOk9yZ2FuaXphdGlvbjE0MTI3MzA4', 'avatar_url': 'https://avatars.githubusercontent.com/u/14127308?v=4', 'gravatar_id': '', 'url': 'https://api.github.com/users/EbookFoundation', 'html_url': 'https://github.com/EbookFoundation', 'followers_url': 'https://api.github.com/users/EbookFoundation/followers', 'following_url': 'https://api.github.com/users/EbookFoundation/following{/other_user}', 'gists_url': 'https://api.github.com/users/EbookFoundation/gists{/gist_id}', 'starred_url': 'https://api.github.com/users/EbookFoundation/starred{/owner}{/repo}', 'subscriptions_url': 'https://api.github.com/users/EbookFoundation/subscriptions', 'organizations_url': 'https://api.github.com/users/EbookFoundation/orgs', 'repos_url': 'https://api.github.com/users/EbookFoundation/repos', 'events_url': 'https://api.github.com/users/EbookFoundation/events{/privacy}', 'received_events_url': 'https://api.github.com/users/EbookFoundation/received_events', 'type': 'Organization', 'user_view_type': 'public', 'site_admin': False}, 'html_url': 'https://github.com/EbookFoundation/free-programming-books', 'description': ':books: Freely available programming books', 'fork': False, 'url': 'https://api.github.com/repos/EbookFoundation/free-programming-books', 'forks_url': 'https://api.github.com/repos/EbookFoundation/free-programming-books/forks', 'keys_url': 'https://api.github.com/repos/EbookFoundation/free-programming-books/keys{/key_id}', 'collaborators_url': 'https://api.github.com/repos/EbookFoundation/free-programming-books/collaborators{/collaborator}', 'teams_url': 'https://api.github.com/repos/EbookFoundation/free-programming-books/teams', 'hooks_url': 'https://api.github.com/repos/EbookFoundation/free-programming-books/hooks', 'issue_events_url': 'https://api.github.com/repos/EbookFoundation/free-programming-books/issues/events{/number}', 'events_url': 'https://api.github.com/repos/EbookFoundation/free-programming-books/events', 'assignees_url': 'https://api.github.com/repos/EbookFoundation/free-programming-books/assignees{/user}', 'branches_url': 'https://api.github.com/repos/EbookFoundation/free-programming-books/branches{/branch}', 'tags_url': 'https://api.github.com/repos/EbookFoundation/free-programming-books/tags', 'blobs_url': 'https://api.github.com/repos/EbookFoundation/free-programming-books/git/blobs{/sha}', 'git_tags_url': 'https://api.github.com/repos/EbookFoundation/free-programming-books/git/tags{/sha}', 'git_refs_url': 'https://api.github.com/repos/EbookFoundation/free-programming-books/git/refs{/sha}', 'trees_url': 'https://api.github.com/repos/EbookFoundation/free-programming-books/git/trees{/sha}', 'statuses_url': 'https://api.github.com/repos/EbookFoundation/free-programming-books/statuses/{sha}', 'languages_url': 'https://api.github.com/repos/EbookFoundation/free-programming-books/languages', 'stargazers_url': 'https://api.github.com/repos/EbookFoundation/free-programming-books/stargazers', 'contributors_url': 'https://api.github.com/repos/EbookFoundation/free-programming-books/contributors', 'subscribers_url': 'https://api.github.com/repos/EbookFoundation/free-programming-books/subscribers', 'subscription_url': 'https://api.github.com/repos/EbookFoundation/free-programming-books/subscription', 'commits_url': 'https://api.github.com/repos/EbookFoundation/free-programming-books/commits{/sha}', 'git_commits_url': 'https://api.github.com/repos/EbookFoundation/free-programming-books/git/commits{/sha}', 'comments_url': 'https://api.github.com/repos/EbookFoundation/free-programming-books/comments{/number}', 'issue_comment_url': 'https://api.github.com/repos/EbookFoundation/free-programming-books/issues/comments{/number}', 'contents_url': 'https://api.github.com/repos/EbookFoundation/free-programming-books/contents/{+path}', 'compare_url': 'https://api.github.com/repos/EbookFoundation/free-programming-books/compare/{base}...{head}', 'merges_url': 'https://api.github.com/repos/EbookFoundation/free-programming-books/merges', 'archive_url': 'https://api.github.com/repos/EbookFoundation/free-programming-books/{archive_format}{/ref}', 'downloads_url': 'https://api.github.com/repos/EbookFoundation/free-programming-books/downloads', 'issues_url': 'https://api.github.com/repos/EbookFoundation/free-programming-books/issues{/number}', 'pulls_url': 'https://api.github.com/repos/EbookFoundation/free-programming-books/pulls{/number}', 'milestones_url': 'https://api.github.com/repos/EbookFoundation/free-programming-books/milestones{/number}', 'notifications_url': 'https://api.github.com/repos/EbookFoundation/free-programming-books/notifications{?since,all,participating}', 'labels_url': 'https://api.github.com/repos/EbookFoundation/free-programming-books/labels{/name}', 'releases_url': 'https://api.github.com/repos/EbookFoundation/free-programming-books/releases{/id}', 'deployments_url': 'https://api.github.com/repos/EbookFoundation/free-programming-books/deployments', 'created_at': '2013-10-11T06:50:37Z', 'updated_at': '2025-06-21T12:42:17Z', 'pushed_at': '2025-06-20T12:58:29Z', 'git_url': 'git://github.com/EbookFoundation/free-programming-books.git', 'ssh_url': 'git@github.com:EbookFoundation/free-programming-books.git', 'clone_url': 'https://github.com/EbookFoundation/free-programming-books.git', 'svn_url': 'https://github.com/EbookFoundation/free-programming-books', 'homepage': 'https://ebookfoundation.github.io/free-programming-books/', 'size': 19483, 'stargazers_count': 359749, 'watchers_count': 359749, 'language': 'Python', 'has_issues': True, 'has_projects': False, 'has_downloads': True, 'has_wiki': False, 'has_pages': True, 'has_discussions': False, 'forks_count': 63575, 'mirror_url': None, 'archived': False, 'disabled': False, 'open_issues_count': 45, 'license': {'key': 'cc-by-4.0', 'name': 'Creative Commons Attribution 4.0 International', 'spdx_id': 'CC-BY-4.0', 'url': 'https://api.github.com/licenses/cc-by-4.0', 'node_id': 'MDc6TGljZW5zZTI1'}, 'allow_forking': True, 'is_template': False, 'web_commit_signoff_required': False, 'topics': ['books', 'education', 'hacktoberfest', 'list', 'resource'], 'visibility': 'public', 'forks': 63575, 'open_issues': 45, 'watchers': 359749, 'default_branch': 'main', 'permissions': {'admin': False, 'maintain': False, 'push': False, 'triage': False, 'pull': True}, 'score': 1.0}\n"
     ]
    }
   ],
   "source": [
    "# Define the search query\n",
    "query = \"language:python stars:>10000\"\n",
    "url = f\"https://api.github.com/search/repositories?q={query}&sort=stars&order=desc\"\n",
    "\n",
    "# Get paginated results (up to 3 pages)\n",
    "repos = get_paginated_results(url, headers, max_pages=3)\n",
    "\n",
    "# Print the first repository as an example\n",
    "print(f\"Total repositories retrieved: {len(repos)}\")\n",
    "print(repos[0])\n"
   ]
  },
  {
   "cell_type": "code",
   "execution_count": 34,
   "id": "db6f2e72",
   "metadata": {},
   "outputs": [
    {
     "name": "stdout",
     "output_type": "stream",
     "text": [
      "Total repositories retrieved: 90\n"
     ]
    }
   ],
   "source": [
    "# Example: Get paginated results for /search/repositories\n",
    "search_url = \"https://api.github.com/search/repositories?q=data+language:python&sort=stars&order=desc\"\n",
    "repo_results = get_paginated_results(search_url, headers, max_pages=3)\n",
    "\n",
    "print(f\"Total repositories retrieved: {len(repo_results)}\")\n"
   ]
  },
  {
   "cell_type": "markdown",
   "id": "521b324c",
   "metadata": {},
   "source": [
    "### Get Commits\n",
    "\n",
    "This section retrieves the list of commits for a specified repository.  \n",
    "It supports filtering by branch (`sha`), file path, and date range.  \n",
    "We implement pagination to extract a full commit history and include error handling for rate limits or invalid requests.\n"
   ]
  },
  {
   "cell_type": "code",
   "execution_count": 35,
   "id": "ba222e0f",
   "metadata": {},
   "outputs": [],
   "source": [
    "def get_commits(owner, repo, per_page=100, max_pages=5):\n",
    "    commits = []\n",
    "    for page in range(1, max_pages + 1):\n",
    "        url = f\"https://api.github.com/repos/{owner}/{repo}/commits\"\n",
    "        params = {\"per_page\": per_page, \"page\": page}\n",
    "        response = requests.get(url, headers=HEADERS, params=params)\n",
    "        if response.status_code == 200:\n",
    "            data = response.json()\n",
    "            if not data:\n",
    "                break\n",
    "            commits.extend(data)\n",
    "        elif response.status_code == 403:\n",
    "            print(\"Rate limit reached.\")\n",
    "            break\n",
    "        else:\n",
    "            print(f\"Error: {response.status_code}\")\n",
    "            print(response.json())\n",
    "            break\n",
    "    return commits\n"
   ]
  },
  {
   "cell_type": "markdown",
   "id": "b53297b3",
   "metadata": {},
   "source": [
    "### Repository Commits\n",
    "\n",
    "This section fetches the commit history of a known open-source repository (`pandas-dev/pandas`).  \n",
    "Using pagination, we retrieve up to 3 pages of commit data (300 commits) to demonstrate API behavior over time.\n"
   ]
  },
  {
   "cell_type": "code",
   "execution_count": 41,
   "id": "d09f1476",
   "metadata": {},
   "outputs": [
    {
     "name": "stdout",
     "output_type": "stream",
     "text": [
      "Error: 401\n",
      "{'message': 'Bad credentials', 'documentation_url': 'https://docs.github.com/rest', 'status': '401'}\n",
      "Total commits fetched: 0\n"
     ]
    }
   ],
   "source": [
    "commits_url = \"https://api.github.com/repos/pandas-dev/pandas/commits\"\n",
    "\n",
    "commits = get_commits (commits_url, headers, per_page=100, max_pages=3)\n",
    "print(f\"Total commits fetched: {len(commits)}\")"
   ]
  },
  {
   "cell_type": "markdown",
   "id": "679c110c",
   "metadata": {},
   "source": [
    "### Sample Output Preview\n",
    "\n",
    "To validate the structure and content of the retrieved data, we print a preview of the first element.  \n",
    "This helps confirm that key fields (e.g., `name`, `html_url`, `stargazers_count`) are present and properly formatted.\n"
   ]
  },
  {
   "cell_type": "code",
   "execution_count": 27,
   "id": "ced2d04d",
   "metadata": {},
   "outputs": [
    {
     "name": "stdout",
     "output_type": "stream",
     "text": [
      "{'id': 145553672, 'node_id': 'MDEwOlJlcG9zaXRvcnkxNDU1NTM2NzI=', 'name': 'funNLP', 'full_name': 'fighting41love/funNLP', 'private': False, 'owner': {'login': 'fighting41love', 'id': 11475294, 'node_id': 'MDQ6VXNlcjExNDc1Mjk0', 'avatar_url': 'https://avatars.githubusercontent.com/u/11475294?v=4', 'gravatar_id': '', 'url': 'https://api.github.com/users/fighting41love', 'html_url': 'https://github.com/fighting41love', 'followers_url': 'https://api.github.com/users/fighting41love/followers', 'following_url': 'https://api.github.com/users/fighting41love/following{/other_user}', 'gists_url': 'https://api.github.com/users/fighting41love/gists{/gist_id}', 'starred_url': 'https://api.github.com/users/fighting41love/starred{/owner}{/repo}', 'subscriptions_url': 'https://api.github.com/users/fighting41love/subscriptions', 'organizations_url': 'https://api.github.com/users/fighting41love/orgs', 'repos_url': 'https://api.github.com/users/fighting41love/repos', 'events_url': 'https://api.github.com/users/fighting41love/events{/privacy}', 'received_events_url': 'https://api.github.com/users/fighting41love/received_events', 'type': 'User', 'user_view_type': 'public', 'site_admin': False}, 'html_url': 'https://github.com/fighting41love/funNLP', 'description': '中英文敏感词、语言检测、中外手机/电话归属地/运营商查询、名字推断性别、手机号抽取、身份证抽取、邮箱抽取、中日文人名库、中文缩写库、拆字词典、词汇情感值、停用词、反动词表、暴恐词表、繁简体转换、英文模拟中文发音、汪峰歌词生成器、职业名称词库、同义词库、反义词库、否定词库、汽车品牌词库、汽车零件词库、连续英文切割、各种中文词向量、公司名字大全、古诗词库、IT词库、财经词库、成语词库、地名词库、历史名人词库、诗词词库、医学词库、饮食词库、法律词库、汽车词库、动物词库、中文聊天语料、中文谣言数据、百度中文问答数据集、句子相似度匹配算法集合、bert资源、文本生成&摘要相关工具、cocoNLP信息抽取工具、国内电话号码正则匹配、清华大学XLORE:中英文跨语言百科知识图谱、清华大学人工智能技术系列报告、自然语言生成、NLU太难了系列、自动对联数据及机器人、用户名黑名单列表、罪名法务名词及分类模型、微信公众号语料、cs224n深度学习自然语言处理课程、中文手写汉字识别、中文自然语言处理 语料/数据集、变量命名神器、分词语料库+代码、任务型对话英文数据集、ASR 语音数据集 + 基于深度学习的中文语音识别系统、笑声检测器、Microsoft多语言数字/单位/如日期时间识别包、中华新华字典数据库及api(包括常用歇后语、成语、词语和汉字)、文档图谱自动生成、SpaCy 中文模型、Common Voice语音识别数据集新版、神经网络关系抽取、基于bert的命名实体识别、关键词(Keyphrase)抽取包pke、基于医疗领域知识图谱的问答系统、基于依存句法与语义角色标注的事件三元组抽取、依存句法分析4万句高质量标注数据、cnocr：用来做中文OCR的Python3包、中文人物关系知识图谱项目、中文nlp竞赛项目及代码汇总、中文字符数据、speech-aligner: 从“人声语音”及其“语言文本”产生音素级别时间对齐标注的工具、AmpliGraph: 知识图谱表示学习(Python)库：知识图谱概念链接预测、Scattertext 文本可视化(python)、语言/知识表示工具：BERT & ERNIE、中文对比英文自然语言处理NLP的区别综述、Synonyms中文近义词工具包、HarvestText领域自适应文本挖掘工具（新词发现-情感分析-实体链接等）、word2word：(Python)方便易用的多语言词-词对集：62种语言/3,564个多语言对、语音识别语料生成工具：从具有音频/字幕的在线视频创建自动语音识别(ASR)语料库、构建医疗实体识别的模型（包含词典和语料标注）、单文档非监督的关键词抽取、Kashgari中使用gpt-2语言模型、开源的金融投资数据提取工具、文本自动摘要库TextTeaser: 仅支持英文、人民日报语料处理工具集、一些关于自然语言的基本模型、基于14W歌曲知识库的问答尝试--功能包括歌词接龙and已知歌词找歌曲以及歌曲歌手歌词三角关系的问答、基于Siamese bilstm模型的相似句子判定模型并提供训练数据集和测试数据集、用Transformer编解码模型实现的根据Hacker News文章标题自动生成评论、用BERT进行序列标记和文本分类的模板代码、LitBank：NLP数据集——支持自然语言处理和计算人文学科任务的100部带标记英文小说语料、百度开源的基准信息抽取系统、虚假新闻数据集、Facebook: LAMA语言模型分析，提供Transformer-XL/BERT/ELMo/GPT预训练语言模型的统一访问接口、CommonsenseQA：面向常识的英文QA挑战、中文知识图谱资料、数据及工具、各大公司内部里大牛分享的技术文档 PDF 或者 PPT、自然语言生成SQL语句（英文）、中文NLP数据增强（EDA）工具、英文NLP数据增强工具 、基于医药知识图谱的智能问答系统、京东商品知识图谱、基于mongodb存储的军事领域知识图谱问答项目、基于远监督的中文关系抽取、语音情感分析、中文ULMFiT-情感分析-文本分类-语料及模型、一个拍照做题程序、世界各国大规模人名库、一个利用有趣中文语料库 qingyun 训练出来的中文聊天机器人、中文聊天机器人seqGAN、省市区镇行政区划数据带拼音标注、教育行业新闻语料库包含自动文摘功能、开放了对话机器人-知识图谱-语义理解-自然语言处理工具及数据、中文知识图谱：基于百度百科中文页面-抽取三元组信息-构建中文知识图谱、masr: 中文语音识别-提供预训练模型-高识别率、Python音频数据增广库、中文全词覆盖BERT及两份阅读理解数据、ConvLab：开源多域端到端对话系统平台、中文自然语言处理数据集、基于最新版本rasa搭建的对话系统、基于TensorFlow和BERT的管道式实体及关系抽取、一个小型的证券知识图谱/知识库、复盘所有NLP比赛的TOP方案、OpenCLaP：多领域开源中文预训练语言模型仓库、UER：基于不同语料+编码器+目标任务的中文预训练模型仓库、中文自然语言处理向量合集、基于金融-司法领域(兼有闲聊性质)的聊天机器人、g2pC：基于上下文的汉语读音自动标记模块、Zincbase 知识图谱构建工具包、诗歌质量评价/细粒度情感诗歌语料库、快速转化「中文数字」和「阿拉伯数字」、百度知道问答语料库、基于知识图谱的问答系统、jieba_fast 加速版的jieba、正则表达式教程、中文阅读理解数据集、基于BERT等最新语言模型的抽取式摘要提取、Python利用深度学习进行文本摘要的综合指南、知识图谱深度学习相关资料整理、维基大规模平行文本语料、StanfordNLP 0.2.0：纯Python版自然语言处理包、NeuralNLP-NeuralClassifier：腾讯开源深度学习文本分类工具、端到端的封闭域对话系统、中文命名实体识别：NeuroNER vs. BertNER、新闻事件线索抽取、2019年百度的三元组抽取比赛：“科学空间队”源码、基于依存句法的开放域文本知识三元组抽取和知识库构建、中文的GPT2训练代码、ML-NLP - 机器学习(Machine Learning)NLP面试中常考到的知识点和代码实现、nlp4han:中文自然语言处理工具集(断句/分词/词性标注/组块/句法分析/语义分析/NER/N元语法/HMM/代词消解/情感分析/拼写检查、XLM：Facebook的跨语言预训练语言模型、用基于BERT的微调和特征提取方法来进行知识图谱百度百科人物词条属性抽取、中文自然语言处理相关的开放任务-数据集-当前最佳结果、CoupletAI - 基于CNN+Bi-LSTM+Attention 的自动对对联系统、抽象知识图谱、MiningZhiDaoQACorpus - 580万百度知道问答数据挖掘项目、brat rapid annotation tool: 序列标注工具、大规模中文知识图谱数据：1.4亿实体、数据增强在机器翻译及其他nlp任务中的应用及效果、allennlp阅读理解:支持多种数据和模型、PDF表格数据提取工具 、 Graphbrain：AI开源软件库和科研工具，目的是促进自动意义提取和文本理解以及知识的探索和推断、简历自动筛选系统、基于命名实体识别的简历自动摘要、中文语言理解测评基准，包括代表性的数据集&基准模型&语料库&排行榜、树洞 OCR 文字识别 、从包含表格的扫描图片中识别表格和文字、语声迁移、Python口语自然语言处理工具集(英文)、 similarity：相似度计算工具包，java编写、海量中文预训练ALBERT模型 、Transformers 2.0 、基于大规模音频数据集Audioset的音频增强 、Poplar：网页版自然语言标注工具、图片文字去除，可用于漫画翻译 、186种语言的数字叫法库、Amazon发布基于知识的人-人开放领域对话数据集 、中文文本纠错模块代码、繁简体转换 、 Python实现的多种文本可读性评价指标、类似于人名/地名/组织机构名的命名体识别数据集 、东南大学《知识图谱》研究生课程(资料)、. 英文拼写检查库 、 wwsearch是企业微信后台自研的全文检索引擎、CHAMELEON：深度学习新闻推荐系统元架构 、 8篇论文梳理BERT相关模型进展与反思、DocSearch：免费文档搜索引擎、 LIDA：轻量交互式对话标注工具 、aili - the fastest in-memory index in the East 东半球最快并发索引 、知识图谱车音工作项目、自然语言生成资源大全 、中日韩分词库mecab的Python接口库、中文文本摘要/关键词提取、汉字字符特征提取器 (featurizer)，提取汉字的特征（发音特征、字形特征）用做深度学习的特征、中文生成任务基准测评 、中文缩写数据集、中文任务基准测评 - 代表性的数据集-基准(预训练)模型-语料库-baseline-工具包-排行榜、PySS3：面向可解释AI的SS3文本分类器机器可视化工具 、中文NLP数据集列表、COPE - 格律诗编辑程序、doccano：基于网页的开源协同多语言文本标注工具 、PreNLP：自然语言预处理库、简单的简历解析器，用来从简历中提取关键信息、用于中文闲聊的GPT2模型：GPT2-chitchat、基于检索聊天机器人多轮响应选择相关资源列表(Leaderboards、Datasets、Papers)、(Colab)抽象文本摘要实现集锦(教程 、词语拼音数据、高效模糊搜索工具、NLP数据增广资源集、微软对话机器人框架 、 GitHub Typo Corpus：大规模GitHub多语言拼写错误/语法错误数据集、TextCluster：短文本聚类预处理模块 Short text cluster、面向语音识别的中文文本规范化、BLINK：最先进的实体链接库、BertPunc：基于BERT的最先进标点修复模型、Tokenizer：快速、可定制的文本词条化库、中文语言理解测评基准，包括代表性的数据集、基准(预训练)模型、语料库、排行榜、spaCy 医学文本挖掘与信息提取 、 NLP任务示例项目代码集、 python拼写检查库、chatbot-list - 行业内关于智能客服、聊天机器人的应用和架构、算法分享和介绍、语音质量评价指标(MOSNet, BSSEval, STOI, PESQ, SRMR)、 用138GB语料训练的法文RoBERTa预训练语言模型 、BERT-NER-Pytorch：三种不同模式的BERT中文NER实验、无道词典 - 有道词典的命令行版本，支持英汉互查和在线查询、2019年NLP亮点回顾、 Chinese medical dialogue data 中文医疗对话数据集 、最好的汉字数字(中文数字)-阿拉伯数字转换工具、 基于百科知识库的中文词语多词义/义项获取与特定句子词语语义消歧、awesome-nlp-sentiment-analysis - 情感分析、情绪原因识别、评价对象和评价词抽取、LineFlow：面向所有深度学习框架的NLP数据高效加载器、中文医学NLP公开资源整理 、MedQuAD：(英文)医学问答数据集、将自然语言数字串解析转换为整数和浮点数、Transfer Learning in Natural Language Processing (NLP) 、面向语音识别的中文/英文发音辞典、Tokenizers：注重性能与多功能性的最先进分词器、CLUENER 细粒度命名实体识别 Fine Grained Named Entity Recognition、 基于BERT的中文命名实体识别、中文谣言数据库、NLP数据集/基准任务大列表、nlp相关的一些论文及代码, 包括主题模型、词向量(Word Embedding)、命名实体识别(NER)、文本分类(Text Classificatin)、文本生成(Text Generation)、文本相似性(Text Similarity)计算等，涉及到各种与nlp相关的算法，基于keras和tensorflow 、Python文本挖掘/NLP实战示例、 Blackstone：面向非结构化法律文本的spaCy pipeline和NLP模型通过同义词替换实现文本“变脸” 、中文 预训练 ELECTREA 模型: 基于对抗学习 pretrain Chinese Model 、albert-chinese-ner - 用预训练语言模型ALBERT做中文NER 、基于GPT2的特定主题文本生成/文本增广、开源预训练语言模型合集、多语言句向量包、编码、标记和实现：一种可控高效的文本生成方法、 英文脏话大列表 、attnvis：GPT2、BERT等transformer语言模型注意力交互可视化、CoVoST：Facebook发布的多语种语音-文本翻译语料库，包括11种语言(法语、德语、荷兰语、俄语、西班牙语、意大利语、土耳其语、波斯语、瑞典语、蒙古语和中文)的语音、文字转录及英文译文、Jiagu自然语言处理工具 - 以BiLSTM等模型为基础，提供知识图谱关系抽取 中文分词 词性标注 命名实体识别 情感分析 新词发现 关键词 文本摘要 文本聚类等功能、用unet实现对文档表格的自动检测，表格重建、NLP事件提取文献资源列表 、 金融领域自然语言处理研究资源大列表、CLUEDatasetSearch - 中英文NLP数据集：搜索所有中文NLP数据集，附常用英文NLP数据集 、medical_NER - 中文医学知识图谱命名实体识别 、(哈佛)讲因果推理的免费书、知识图谱相关学习资料/数据集/工具资源大列表、Forte：灵活强大的自然语言处理pipeline工具集 、Python字符串相似性算法库、PyLaia：面向手写文档分析的深度学习工具包、TextFooler：针对文本分类/推理的对抗文本生成模块、Haystack：灵活、强大的可扩展问答(QA)框架、中文关键短语抽取工具', 'fork': False, 'url': 'https://api.github.com/repos/fighting41love/funNLP', 'forks_url': 'https://api.github.com/repos/fighting41love/funNLP/forks', 'keys_url': 'https://api.github.com/repos/fighting41love/funNLP/keys{/key_id}', 'collaborators_url': 'https://api.github.com/repos/fighting41love/funNLP/collaborators{/collaborator}', 'teams_url': 'https://api.github.com/repos/fighting41love/funNLP/teams', 'hooks_url': 'https://api.github.com/repos/fighting41love/funNLP/hooks', 'issue_events_url': 'https://api.github.com/repos/fighting41love/funNLP/issues/events{/number}', 'events_url': 'https://api.github.com/repos/fighting41love/funNLP/events', 'assignees_url': 'https://api.github.com/repos/fighting41love/funNLP/assignees{/user}', 'branches_url': 'https://api.github.com/repos/fighting41love/funNLP/branches{/branch}', 'tags_url': 'https://api.github.com/repos/fighting41love/funNLP/tags', 'blobs_url': 'https://api.github.com/repos/fighting41love/funNLP/git/blobs{/sha}', 'git_tags_url': 'https://api.github.com/repos/fighting41love/funNLP/git/tags{/sha}', 'git_refs_url': 'https://api.github.com/repos/fighting41love/funNLP/git/refs{/sha}', 'trees_url': 'https://api.github.com/repos/fighting41love/funNLP/git/trees{/sha}', 'statuses_url': 'https://api.github.com/repos/fighting41love/funNLP/statuses/{sha}', 'languages_url': 'https://api.github.com/repos/fighting41love/funNLP/languages', 'stargazers_url': 'https://api.github.com/repos/fighting41love/funNLP/stargazers', 'contributors_url': 'https://api.github.com/repos/fighting41love/funNLP/contributors', 'subscribers_url': 'https://api.github.com/repos/fighting41love/funNLP/subscribers', 'subscription_url': 'https://api.github.com/repos/fighting41love/funNLP/subscription', 'commits_url': 'https://api.github.com/repos/fighting41love/funNLP/commits{/sha}', 'git_commits_url': 'https://api.github.com/repos/fighting41love/funNLP/git/commits{/sha}', 'comments_url': 'https://api.github.com/repos/fighting41love/funNLP/comments{/number}', 'issue_comment_url': 'https://api.github.com/repos/fighting41love/funNLP/issues/comments{/number}', 'contents_url': 'https://api.github.com/repos/fighting41love/funNLP/contents/{+path}', 'compare_url': 'https://api.github.com/repos/fighting41love/funNLP/compare/{base}...{head}', 'merges_url': 'https://api.github.com/repos/fighting41love/funNLP/merges', 'archive_url': 'https://api.github.com/repos/fighting41love/funNLP/{archive_format}{/ref}', 'downloads_url': 'https://api.github.com/repos/fighting41love/funNLP/downloads', 'issues_url': 'https://api.github.com/repos/fighting41love/funNLP/issues{/number}', 'pulls_url': 'https://api.github.com/repos/fighting41love/funNLP/pulls{/number}', 'milestones_url': 'https://api.github.com/repos/fighting41love/funNLP/milestones{/number}', 'notifications_url': 'https://api.github.com/repos/fighting41love/funNLP/notifications{?since,all,participating}', 'labels_url': 'https://api.github.com/repos/fighting41love/funNLP/labels{/name}', 'releases_url': 'https://api.github.com/repos/fighting41love/funNLP/releases{/id}', 'deployments_url': 'https://api.github.com/repos/fighting41love/funNLP/deployments', 'created_at': '2018-08-21T11:20:39Z', 'updated_at': '2025-06-21T12:09:31Z', 'pushed_at': '2024-05-10T07:38:24Z', 'git_url': 'git://github.com/fighting41love/funNLP.git', 'ssh_url': 'git@github.com:fighting41love/funNLP.git', 'clone_url': 'https://github.com/fighting41love/funNLP.git', 'svn_url': 'https://github.com/fighting41love/funNLP', 'homepage': 'https://zhuanlan.zhihu.com/yangyangfuture', 'size': 174188, 'stargazers_count': 74232, 'watchers_count': 74232, 'language': 'Python', 'has_issues': True, 'has_projects': True, 'has_downloads': True, 'has_wiki': True, 'has_pages': False, 'has_discussions': False, 'forks_count': 14882, 'mirror_url': None, 'archived': False, 'disabled': False, 'open_issues_count': 38, 'license': None, 'allow_forking': True, 'is_template': False, 'web_commit_signoff_required': False, 'topics': [], 'visibility': 'public', 'forks': 14882, 'open_issues': 38, 'watchers': 74232, 'default_branch': 'master', 'permissions': {'admin': False, 'maintain': False, 'push': False, 'triage': False, 'pull': True}, 'score': 1.0}\n"
     ]
    }
   ],
   "source": [
    "\n",
    "print(repo_results[0])\n"
   ]
  },
  {
   "cell_type": "markdown",
   "id": "699f2b73",
   "metadata": {},
   "source": [
    "### Get Repos Contents\n",
    "\n",
    "This endpoint allows us to access the content of a file in a repository. In this case, we read the README file from the root of the pandas-dev/pandas repository.\n"
   ]
  },
  {
   "cell_type": "code",
   "execution_count": 39,
   "id": "b24bd072",
   "metadata": {},
   "outputs": [],
   "source": [
    "def get_file_content(owner, repo, path):\n",
    "    url = f\"https://api.github.com/repos/{owner}/{repo}/contents/{path}\"\n",
    "    response = requests.get(url, headers=headers)\n",
    "    if response.status_code == 200:\n",
    "        return response.json()\n",
    "    else:\n",
    "        print(f\"Error: {response.status_code}\")\n",
    "        print(response.json())\n",
    "        return {}"
   ]
  },
  {
   "cell_type": "code",
   "execution_count": 40,
   "id": "eadf0f3b",
   "metadata": {},
   "outputs": [
    {
     "ename": "NameError",
     "evalue": "name 'owner' is not defined",
     "output_type": "error",
     "traceback": [
      "\u001b[1;31m---------------------------------------------------------------------------\u001b[0m",
      "\u001b[1;31mNameError\u001b[0m                                 Traceback (most recent call last)",
      "Cell \u001b[1;32mIn[40], line 2\u001b[0m\n\u001b[0;32m      1\u001b[0m path \u001b[38;5;241m=\u001b[39m \u001b[38;5;124m\"\u001b[39m\u001b[38;5;124mREADME.md\u001b[39m\u001b[38;5;124m\"\u001b[39m\n\u001b[1;32m----> 2\u001b[0m url_content \u001b[38;5;241m=\u001b[39m \u001b[38;5;124mf\u001b[39m\u001b[38;5;124m\"\u001b[39m\u001b[38;5;124mhttps://api.github.com/repos/\u001b[39m\u001b[38;5;132;01m{\u001b[39;00mowner\u001b[38;5;132;01m}\u001b[39;00m\u001b[38;5;124m/\u001b[39m\u001b[38;5;132;01m{\u001b[39;00mrepo\u001b[38;5;132;01m}\u001b[39;00m\u001b[38;5;124m/contents/\u001b[39m\u001b[38;5;132;01m{\u001b[39;00mpath\u001b[38;5;132;01m}\u001b[39;00m\u001b[38;5;124m\"\u001b[39m\n\u001b[0;32m      4\u001b[0m readme_data \u001b[38;5;241m=\u001b[39m safe_request(url_content, headers)\n\u001b[0;32m      6\u001b[0m \u001b[38;5;66;03m# Print information about the README file\u001b[39;00m\n",
      "\u001b[1;31mNameError\u001b[0m: name 'owner' is not defined"
     ]
    }
   ],
   "source": [
    "path = \"README.md\"\n",
    "url_content = f\"https://api.github.com/repos/{owner}/{repo}/contents/{path}\"\n",
    "\n",
    "readme_data = safe_request(url_content, headers)\n",
    "\n",
    "# Print information about the README file\n",
    "if readme_data:\n",
    "    print(f\"File name: {readme_data['name']}\")\n",
    "    print(f\"Encoding: {readme_data['encoding']}\")\n",
    "    print(f\"Download URL: {readme_data['download_url']}\")\n",
    "    print(\"File content preview (truncated):\")\n",
    "    print(readme_data['content'][:300])  # Show just the beginning\n"
   ]
  },
  {
   "cell_type": "markdown",
   "id": "97d1830f",
   "metadata": {},
   "source": [
    "###  Function Testing\n",
    "\n",
    "This section is dedicated to testing the reusable functions created for authentication, error handling, and pagination.  \n",
    "We verify that each function behaves as expected with real API responses.  \n",
    "This modular approach improves maintainability and ensures consistent behavior across endpoints.\n"
   ]
  },
  {
   "cell_type": "code",
   "execution_count": 43,
   "id": "0b1d7a54",
   "metadata": {},
   "outputs": [
    {
     "name": "stdout",
     "output_type": "stream",
     "text": [
      "Repo: fighting41love/funNLP - ⭐ 74232\n",
      "Repo: lk-geimfari/mimesis - ⭐ 4589\n",
      "Repo: kaitai-io/kaitai_struct - ⭐ 4215\n",
      "Error: 401\n",
      "{'message': 'Bad credentials', 'documentation_url': 'https://docs.github.com/rest', 'status': '401'}\n",
      "\n",
      "Total commits obtenidos de fighting41love/funNLP: 0\n",
      "\n",
      "Archivo README.md encontrado:\n",
      "None\n"
     ]
    }
   ],
   "source": [
    "# Search for test repositories\n",
    "\n",
    "repos = search_repositories()\n",
    "for repo in repos[:3]:\n",
    "    print(f\"Repo: {repo['full_name']} - ⭐ {repo['stargazers_count']}\")\n",
    "\n",
    "# Get commits from the first repository\n",
    "if repos:\n",
    "    owner, name = repos[0][\"owner\"][\"login\"], repos[0][\"name\"]\n",
    "    commits = get_commits(owner, name)\n",
    "    print(f\"\\nTotal commits obtenidos de {owner}/{name}: {len(commits)}\")\n",
    "    if commits:\n",
    "        print(f\"Primer commit SHA: {commits[0]['sha']}\")\n",
    "\n",
    "# Read a sample file (README.md)\n",
    "file_content = get_file_content(owner, name, \"README.md\")\n",
    "if file_content:\n",
    "    print(\"\\nArchivo README.md encontrado:\")\n",
    "    print(file_content.get(\"Objetive\"))\n"
   ]
  },
  {
   "cell_type": "markdown",
   "id": "54a64c15",
   "metadata": {},
   "source": [
    "### Convert to DataFrame\n",
    "\n",
    "After successfully retrieving and validating the API responses, this section converts selected JSON data into structured Pandas DataFrames.  \n",
    "This allows for easier exploration, analysis, and export of the extracted data.  \n",
    "We also inspect the resulting structure to ensure data integrity and usability.\n"
   ]
  },
  {
   "cell_type": "code",
   "execution_count": 42,
   "id": "8b12504d",
   "metadata": {},
   "outputs": [
    {
     "data": {
      "text/html": [
       "<div>\n",
       "<style scoped>\n",
       "    .dataframe tbody tr th:only-of-type {\n",
       "        vertical-align: middle;\n",
       "    }\n",
       "\n",
       "    .dataframe tbody tr th {\n",
       "        vertical-align: top;\n",
       "    }\n",
       "\n",
       "    .dataframe thead th {\n",
       "        text-align: right;\n",
       "    }\n",
       "</style>\n",
       "<table border=\"1\" class=\"dataframe\">\n",
       "  <thead>\n",
       "    <tr style=\"text-align: right;\">\n",
       "      <th></th>\n",
       "    </tr>\n",
       "  </thead>\n",
       "  <tbody>\n",
       "  </tbody>\n",
       "</table>\n",
       "</div>"
      ],
      "text/plain": [
       "Empty DataFrame\n",
       "Columns: []\n",
       "Index: []"
      ]
     },
     "execution_count": 42,
     "metadata": {},
     "output_type": "execute_result"
    }
   ],
   "source": [
    "df = pd.DataFrame([\n",
    "    {\n",
    "        \"sha\": c[\"sha\"],\n",
    "        \"author\": c[\"commit\"][\"author\"][\"name\"],\n",
    "        \"message\": c[\"commit\"][\"message\"],\n",
    "        \"date\": c[\"commit\"][\"author\"][\"date\"]\n",
    "    }\n",
    "    for c in commits\n",
    "])\n",
    "\n",
    "df.head()"
   ]
  }
 ],
 "metadata": {
  "kernelspec": {
   "display_name": "base",
   "language": "python",
   "name": "python3"
  },
  "language_info": {
   "codemirror_mode": {
    "name": "ipython",
    "version": 3
   },
   "file_extension": ".py",
   "mimetype": "text/x-python",
   "name": "python",
   "nbconvert_exporter": "python",
   "pygments_lexer": "ipython3",
   "version": "3.12.4"
  }
 },
 "nbformat": 4,
 "nbformat_minor": 5
}
