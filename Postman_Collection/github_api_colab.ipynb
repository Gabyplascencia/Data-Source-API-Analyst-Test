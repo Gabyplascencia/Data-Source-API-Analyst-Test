{
 "cells": [
  {
   "cell_type": "markdown",
   "id": "1e58c038",
   "metadata": {},
   "source": [
    "# Introduction \n",
    "\n",
    "GitHub API - Data Extraction Notebook\n",
    "\n",
    "Author: Gabriela Rivera Plascencia\n",
    "\n",
    "Purpose: Extract public GitHub repository data, commits, and file contents using the REST API."
   ]
  },
  {
   "cell_type": "code",
   "execution_count": 10,
   "id": "b55774cb",
   "metadata": {},
   "outputs": [],
   "source": [
    "## Import Libraries\n",
    "\n",
    "import requests\n",
    "import time\n",
    "import pandas as pd"
   ]
  },
  {
   "cell_type": "markdown",
   "id": "53a5986c",
   "metadata": {},
   "source": [
    "## Authentication"
   ]
  },
  {
   "cell_type": "code",
   "execution_count": null,
   "id": "f603357f",
   "metadata": {},
   "outputs": [],
   "source": [
    "# Replace with your actual GitHub token\n",
    "TOKEN = \"Enter your full GitHub token:\"\n"
   ]
  },
  {
   "cell_type": "code",
   "execution_count": 12,
   "id": "91fb0c02",
   "metadata": {},
   "outputs": [],
   "source": [
    "# Authentication headers\n",
    "HEADERS = {\n",
    "    \"Authorization\": f\"Bearer {TOKEN}\",\n",
    "    \"Accept\": \"application/vnd.github+json\",\n",
    "    \"X-GitHub-Api-Version\": \"2022-11-28\"\n",
    "}"
   ]
  },
  {
   "cell_type": "markdown",
   "id": "4cee4403",
   "metadata": {},
   "source": [
    "## Search public repositories"
   ]
  },
  {
   "cell_type": "code",
   "execution_count": 13,
   "id": "87c7c39d",
   "metadata": {},
   "outputs": [],
   "source": [
    "def search_repositories(query=\"data\", language=\"python\", sort=\"stars\", order=\"desc\", per_page=30, page=1):\n",
    "    url = \"https://api.github.com/search/repositories\"\n",
    "    params = {\n",
    "        \"q\": f\"{query}+language:{language}\",\n",
    "        \"sort\": sort,\n",
    "        \"order\": order,\n",
    "        \"per_page\": per_page,\n",
    "        \"page\": page\n",
    "    }\n",
    "    response = requests.get(url, headers=HEADERS, params=params)\n",
    "    if response.status_code == 200:\n",
    "        return response.json()[\"items\"]\n",
    "    else:\n",
    "        print(f\"Error: {response.status_code}\")\n",
    "        print(response.json())\n",
    "        return []\n"
   ]
  },
  {
   "cell_type": "markdown",
   "id": "521b324c",
   "metadata": {},
   "source": [
    "## Get commits"
   ]
  },
  {
   "cell_type": "code",
   "execution_count": 14,
   "id": "ba222e0f",
   "metadata": {},
   "outputs": [],
   "source": [
    "def get_commits(owner, repo, per_page=100, max_pages=5):\n",
    "    commits = []\n",
    "    for page in range(1, max_pages + 1):\n",
    "        url = f\"https://api.github.com/repos/{owner}/{repo}/commits\"\n",
    "        params = {\"per_page\": per_page, \"page\": page}\n",
    "        response = requests.get(url, headers=HEADERS, params=params)\n",
    "        if response.status_code == 200:\n",
    "            data = response.json()\n",
    "            if not data:\n",
    "                break\n",
    "            commits.extend(data)\n",
    "        elif response.status_code == 403:\n",
    "            print(\"Rate limit reached.\")\n",
    "            break\n",
    "        else:\n",
    "            print(f\"Error: {response.status_code}\")\n",
    "            print(response.json())\n",
    "            break\n",
    "    return commits\n"
   ]
  },
  {
   "cell_type": "markdown",
   "id": "699f2b73",
   "metadata": {},
   "source": [
    "## Get file content"
   ]
  },
  {
   "cell_type": "code",
   "execution_count": 15,
   "id": "b24bd072",
   "metadata": {},
   "outputs": [],
   "source": [
    "def get_file_content(owner, repo, path):\n",
    "    url = f\"https://api.github.com/repos/{owner}/{repo}/contents/{path}\"\n",
    "    response = requests.get(url, headers=HEADERS)\n",
    "    if response.status_code == 200:\n",
    "        return response.json()\n",
    "    else:\n",
    "        print(f\"Error: {response.status_code}\")\n",
    "        print(response.json())\n",
    "        return {}"
   ]
  },
  {
   "cell_type": "markdown",
   "id": "97d1830f",
   "metadata": {},
   "source": [
    "\n",
    "## Function testing"
   ]
  },
  {
   "cell_type": "code",
   "execution_count": 16,
   "id": "0b1d7a54",
   "metadata": {},
   "outputs": [
    {
     "name": "stdout",
     "output_type": "stream",
     "text": [
      "Repo: fighting41love/funNLP - ⭐ 74220\n",
      "Repo: lk-geimfari/mimesis - ⭐ 4589\n",
      "Repo: kaitai-io/kaitai_struct - ⭐ 4215\n",
      "\n",
      "Total commits obtenidos de fighting41love/funNLP: 159\n",
      "Primer commit SHA: 29f4ac896f11058e87e10968569f999c69679b6f\n",
      "\n",
      "Archivo README.md encontrado:\n",
      "None\n"
     ]
    }
   ],
   "source": [
    "# Search for test repositories\n",
    "\n",
    "repos = search_repositories()\n",
    "for repo in repos[:3]:\n",
    "    print(f\"Repo: {repo['full_name']} - ⭐ {repo['stargazers_count']}\")\n",
    "\n",
    "# Obtener commits del primer repositorio\n",
    "if repos:\n",
    "    owner, name = repos[0][\"owner\"][\"login\"], repos[0][\"name\"]\n",
    "    commits = get_commits(owner, name)\n",
    "    print(f\"\\nTotal commits obtenidos de {owner}/{name}: {len(commits)}\")\n",
    "    if commits:\n",
    "        print(f\"Primer commit SHA: {commits[0]['sha']}\")\n",
    "\n",
    "# Leer un archivo de ejemplo (README.md)\n",
    "file_content = get_file_content(owner, name, \"README.md\")\n",
    "if file_content:\n",
    "    print(\"\\nArchivo README.md encontrado:\")\n",
    "    print(file_content.get(\"Objetive\"))\n"
   ]
  },
  {
   "cell_type": "markdown",
   "id": "54a64c15",
   "metadata": {},
   "source": [
    "## Convert to DataFrame"
   ]
  },
  {
   "cell_type": "code",
   "execution_count": 17,
   "id": "8b12504d",
   "metadata": {},
   "outputs": [
    {
     "data": {
      "text/html": [
       "<div>\n",
       "<style scoped>\n",
       "    .dataframe tbody tr th:only-of-type {\n",
       "        vertical-align: middle;\n",
       "    }\n",
       "\n",
       "    .dataframe tbody tr th {\n",
       "        vertical-align: top;\n",
       "    }\n",
       "\n",
       "    .dataframe thead th {\n",
       "        text-align: right;\n",
       "    }\n",
       "</style>\n",
       "<table border=\"1\" class=\"dataframe\">\n",
       "  <thead>\n",
       "    <tr style=\"text-align: right;\">\n",
       "      <th></th>\n",
       "      <th>sha</th>\n",
       "      <th>author</th>\n",
       "      <th>message</th>\n",
       "      <th>date</th>\n",
       "    </tr>\n",
       "  </thead>\n",
       "  <tbody>\n",
       "    <tr>\n",
       "      <th>0</th>\n",
       "      <td>29f4ac896f11058e87e10968569f999c69679b6f</td>\n",
       "      <td>Yang</td>\n",
       "      <td>Merge pull request #97 from ZhaoQiiii/master\\n...</td>\n",
       "      <td>2023-08-24T08:47:15Z</td>\n",
       "    </tr>\n",
       "    <tr>\n",
       "      <th>1</th>\n",
       "      <td>8b8704b715072a9be720ab636209a3c49b97a7e5</td>\n",
       "      <td>ZhaoQiiii</td>\n",
       "      <td>Update README.md</td>\n",
       "      <td>2023-08-23T09:41:50Z</td>\n",
       "    </tr>\n",
       "    <tr>\n",
       "      <th>2</th>\n",
       "      <td>62e8cb5ad697aec34912263428259d8c77161cc7</td>\n",
       "      <td>fighting41love</td>\n",
       "      <td>update multiple LLM frameworks</td>\n",
       "      <td>2023-06-03T14:31:05Z</td>\n",
       "    </tr>\n",
       "    <tr>\n",
       "      <th>3</th>\n",
       "      <td>7b4be10a1d5bc198d4f62590bf8a196ae6074c37</td>\n",
       "      <td>fighting41love</td>\n",
       "      <td>add multiple doc-chat frameworks</td>\n",
       "      <td>2023-05-29T06:53:09Z</td>\n",
       "    </tr>\n",
       "    <tr>\n",
       "      <th>4</th>\n",
       "      <td>b6a9ae2585e00f86f17699070b245eabd9e8b931</td>\n",
       "      <td>fighting41love</td>\n",
       "      <td>update talbe structure</td>\n",
       "      <td>2023-05-27T12:53:41Z</td>\n",
       "    </tr>\n",
       "  </tbody>\n",
       "</table>\n",
       "</div>"
      ],
      "text/plain": [
       "                                        sha          author  \\\n",
       "0  29f4ac896f11058e87e10968569f999c69679b6f            Yang   \n",
       "1  8b8704b715072a9be720ab636209a3c49b97a7e5       ZhaoQiiii   \n",
       "2  62e8cb5ad697aec34912263428259d8c77161cc7  fighting41love   \n",
       "3  7b4be10a1d5bc198d4f62590bf8a196ae6074c37  fighting41love   \n",
       "4  b6a9ae2585e00f86f17699070b245eabd9e8b931  fighting41love   \n",
       "\n",
       "                                             message                  date  \n",
       "0  Merge pull request #97 from ZhaoQiiii/master\\n...  2023-08-24T08:47:15Z  \n",
       "1                                   Update README.md  2023-08-23T09:41:50Z  \n",
       "2                     update multiple LLM frameworks  2023-06-03T14:31:05Z  \n",
       "3                   add multiple doc-chat frameworks  2023-05-29T06:53:09Z  \n",
       "4                             update talbe structure  2023-05-27T12:53:41Z  "
      ]
     },
     "execution_count": 17,
     "metadata": {},
     "output_type": "execute_result"
    }
   ],
   "source": [
    "df = pd.DataFrame([\n",
    "    {\n",
    "        \"sha\": c[\"sha\"],\n",
    "        \"author\": c[\"commit\"][\"author\"][\"name\"],\n",
    "        \"message\": c[\"commit\"][\"message\"],\n",
    "        \"date\": c[\"commit\"][\"author\"][\"date\"]\n",
    "    }\n",
    "    for c in commits\n",
    "])\n",
    "\n",
    "df.head()"
   ]
  }
 ],
 "metadata": {
  "kernelspec": {
   "display_name": "base",
   "language": "python",
   "name": "python3"
  },
  "language_info": {
   "codemirror_mode": {
    "name": "ipython",
    "version": 3
   },
   "file_extension": ".py",
   "mimetype": "text/x-python",
   "name": "python",
   "nbconvert_exporter": "python",
   "pygments_lexer": "ipython3",
   "version": "3.12.4"
  }
 },
 "nbformat": 4,
 "nbformat_minor": 5
}
